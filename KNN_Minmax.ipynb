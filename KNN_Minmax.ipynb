{
 "cells": [
  {
   "cell_type": "markdown",
   "id": "089ca8d6",
   "metadata": {},
   "source": [
    "# Importing required libraries"
   ]
  },
  {
   "cell_type": "markdown",
   "id": "44e62e90",
   "metadata": {},
   "source": [
    "We’ll use `pandas`, `numpy`, `seaborn`, and `matplotlib` for data handling and visualization, and `scikit-learn` for preprocessing (imputation and scaling).\n"
   ]
  },
  {
   "cell_type": "code",
   "execution_count": 34,
   "id": "10d91905",
   "metadata": {},
   "outputs": [],
   "source": [
    "import pandas as pd\n",
    "import numpy as np\n",
    "import matplotlib.pyplot as plt\n",
    "import seaborn as sns\n",
    "from sklearn.model_selection import train_test_split\n",
    "from sklearn.preprocessing import MinMaxScaler\n",
    "from sklearn.impute import SimpleImputer,KNNImputer\n",
    "from sklearn.compose import ColumnTransformer\n",
    "from sklearn.pipeline import Pipeline"
   ]
  },
  {
   "cell_type": "markdown",
   "id": "a6d44dbb",
   "metadata": {},
   "source": [
    "**Loading data**"
   ]
  },
  {
   "cell_type": "markdown",
   "id": "143005f7",
   "metadata": {},
   "source": [
    "The Titanic dataset contains passenger information such as age, fare, and survival status. It also has missing values, making it perfect for demonstrating data imputation techniques.\n"
   ]
  },
  {
   "cell_type": "code",
   "execution_count": 35,
   "id": "2834aabb",
   "metadata": {},
   "outputs": [
    {
     "data": {
      "text/html": [
       "<div>\n",
       "<style scoped>\n",
       "    .dataframe tbody tr th:only-of-type {\n",
       "        vertical-align: middle;\n",
       "    }\n",
       "\n",
       "    .dataframe tbody tr th {\n",
       "        vertical-align: top;\n",
       "    }\n",
       "\n",
       "    .dataframe thead th {\n",
       "        text-align: right;\n",
       "    }\n",
       "</style>\n",
       "<table border=\"1\" class=\"dataframe\">\n",
       "  <thead>\n",
       "    <tr style=\"text-align: right;\">\n",
       "      <th></th>\n",
       "      <th>survived</th>\n",
       "      <th>pclass</th>\n",
       "      <th>sex</th>\n",
       "      <th>age</th>\n",
       "      <th>sibsp</th>\n",
       "      <th>parch</th>\n",
       "      <th>fare</th>\n",
       "      <th>embarked</th>\n",
       "      <th>class</th>\n",
       "      <th>who</th>\n",
       "      <th>adult_male</th>\n",
       "      <th>deck</th>\n",
       "      <th>embark_town</th>\n",
       "      <th>alive</th>\n",
       "      <th>alone</th>\n",
       "    </tr>\n",
       "  </thead>\n",
       "  <tbody>\n",
       "    <tr>\n",
       "      <th>0</th>\n",
       "      <td>0</td>\n",
       "      <td>3</td>\n",
       "      <td>male</td>\n",
       "      <td>22.0</td>\n",
       "      <td>1</td>\n",
       "      <td>0</td>\n",
       "      <td>7.2500</td>\n",
       "      <td>S</td>\n",
       "      <td>Third</td>\n",
       "      <td>man</td>\n",
       "      <td>True</td>\n",
       "      <td>NaN</td>\n",
       "      <td>Southampton</td>\n",
       "      <td>no</td>\n",
       "      <td>False</td>\n",
       "    </tr>\n",
       "    <tr>\n",
       "      <th>1</th>\n",
       "      <td>1</td>\n",
       "      <td>1</td>\n",
       "      <td>female</td>\n",
       "      <td>38.0</td>\n",
       "      <td>1</td>\n",
       "      <td>0</td>\n",
       "      <td>71.2833</td>\n",
       "      <td>C</td>\n",
       "      <td>First</td>\n",
       "      <td>woman</td>\n",
       "      <td>False</td>\n",
       "      <td>C</td>\n",
       "      <td>Cherbourg</td>\n",
       "      <td>yes</td>\n",
       "      <td>False</td>\n",
       "    </tr>\n",
       "    <tr>\n",
       "      <th>2</th>\n",
       "      <td>1</td>\n",
       "      <td>3</td>\n",
       "      <td>female</td>\n",
       "      <td>26.0</td>\n",
       "      <td>0</td>\n",
       "      <td>0</td>\n",
       "      <td>7.9250</td>\n",
       "      <td>S</td>\n",
       "      <td>Third</td>\n",
       "      <td>woman</td>\n",
       "      <td>False</td>\n",
       "      <td>NaN</td>\n",
       "      <td>Southampton</td>\n",
       "      <td>yes</td>\n",
       "      <td>True</td>\n",
       "    </tr>\n",
       "    <tr>\n",
       "      <th>3</th>\n",
       "      <td>1</td>\n",
       "      <td>1</td>\n",
       "      <td>female</td>\n",
       "      <td>35.0</td>\n",
       "      <td>1</td>\n",
       "      <td>0</td>\n",
       "      <td>53.1000</td>\n",
       "      <td>S</td>\n",
       "      <td>First</td>\n",
       "      <td>woman</td>\n",
       "      <td>False</td>\n",
       "      <td>C</td>\n",
       "      <td>Southampton</td>\n",
       "      <td>yes</td>\n",
       "      <td>False</td>\n",
       "    </tr>\n",
       "    <tr>\n",
       "      <th>4</th>\n",
       "      <td>0</td>\n",
       "      <td>3</td>\n",
       "      <td>male</td>\n",
       "      <td>35.0</td>\n",
       "      <td>0</td>\n",
       "      <td>0</td>\n",
       "      <td>8.0500</td>\n",
       "      <td>S</td>\n",
       "      <td>Third</td>\n",
       "      <td>man</td>\n",
       "      <td>True</td>\n",
       "      <td>NaN</td>\n",
       "      <td>Southampton</td>\n",
       "      <td>no</td>\n",
       "      <td>True</td>\n",
       "    </tr>\n",
       "  </tbody>\n",
       "</table>\n",
       "</div>"
      ],
      "text/plain": [
       "   survived  pclass     sex   age  sibsp  parch     fare embarked  class  \\\n",
       "0         0       3    male  22.0      1      0   7.2500        S  Third   \n",
       "1         1       1  female  38.0      1      0  71.2833        C  First   \n",
       "2         1       3  female  26.0      0      0   7.9250        S  Third   \n",
       "3         1       1  female  35.0      1      0  53.1000        S  First   \n",
       "4         0       3    male  35.0      0      0   8.0500        S  Third   \n",
       "\n",
       "     who  adult_male deck  embark_town alive  alone  \n",
       "0    man        True  NaN  Southampton    no  False  \n",
       "1  woman       False    C    Cherbourg   yes  False  \n",
       "2  woman       False  NaN  Southampton   yes   True  \n",
       "3  woman       False    C  Southampton   yes  False  \n",
       "4    man        True  NaN  Southampton    no   True  "
      ]
     },
     "execution_count": 35,
     "metadata": {},
     "output_type": "execute_result"
    }
   ],
   "source": [
    "df = sns.load_dataset('titanic')\n",
    "df.head()"
   ]
  },
  {
   "cell_type": "markdown",
   "id": "7abae895",
   "metadata": {},
   "source": [
    "**Checking for missing values**"
   ]
  },
  {
   "cell_type": "markdown",
   "id": "b1c2f78e",
   "metadata": {},
   "source": [
    "Before handling missing data, let’s visualize and count how many values are missing in each column."
   ]
  },
  {
   "cell_type": "code",
   "execution_count": 36,
   "id": "dd53b6f4",
   "metadata": {},
   "outputs": [
    {
     "data": {
      "text/plain": [
       "survived         0\n",
       "pclass           0\n",
       "sex              0\n",
       "age            177\n",
       "sibsp            0\n",
       "parch            0\n",
       "fare             0\n",
       "embarked         2\n",
       "class            0\n",
       "who              0\n",
       "adult_male       0\n",
       "deck           688\n",
       "embark_town      2\n",
       "alive            0\n",
       "alone            0\n",
       "dtype: int64"
      ]
     },
     "execution_count": 36,
     "metadata": {},
     "output_type": "execute_result"
    }
   ],
   "source": [
    "df.isna().sum()"
   ]
  },
  {
   "cell_type": "markdown",
   "id": "216dbfa3",
   "metadata": {},
   "source": [
    "**Checking for missing values by Heatmap**"
   ]
  },
  {
   "cell_type": "code",
   "execution_count": 37,
   "id": "0e45098f",
   "metadata": {},
   "outputs": [
    {
     "data": {
      "text/plain": [
       "<Axes: >"
      ]
     },
     "execution_count": 37,
     "metadata": {},
     "output_type": "execute_result"
    },
    {
     "data": {
      "image/png": "[encoded data removed]",
      "text/plain": [
       "<Figure size 640x480 with 2 Axes>"
      ]
     },
     "metadata": {},
     "output_type": "display_data"
    }
   ],
   "source": [
    "sns.heatmap(df.isna())"
   ]
  },
  {
   "cell_type": "markdown",
   "id": "577730fc",
   "metadata": {},
   "source": [
    "**Selecting Input and Output variables**"
   ]
  },
  {
   "cell_type": "markdown",
   "id": "ccf2dd01",
   "metadata": {},
   "source": [
    "We’ll focus on a few numerical and categorical features that contain missing values, along with the target variable `survived`."
   ]
  },
  {
   "cell_type": "code",
   "execution_count": 38,
   "id": "6f29c95c",
   "metadata": {},
   "outputs": [],
   "source": [
    "X = df[['age','fare','pclass','embarked','embark_town']]\n",
    "y= df['survived']"
   ]
  },
  {
   "cell_type": "markdown",
   "id": "dc7b1324",
   "metadata": {},
   "source": [
    "**Splitting data into training and testing data**"
   ]
  },
  {
   "cell_type": "markdown",
   "id": "08543738",
   "metadata": {},
   "source": [
    "To avoid data leakage, we’ll split the data before applying any preprocessing steps."
   ]
  },
  {
   "cell_type": "code",
   "execution_count": 39,
   "id": "d068cfd7",
   "metadata": {},
   "outputs": [],
   "source": [
    "X_train,X_test,y_train,y_test = train_test_split(X,y,train_size=0.8,random_state=42)"
   ]
  },
  {
   "cell_type": "markdown",
   "id": "c16c85fb",
   "metadata": {},
   "source": [
    "**Selecting numerical and categorical columns**"
   ]
  },
  {
   "cell_type": "markdown",
   "id": "81300204",
   "metadata": {},
   "source": [
    "We’ll handle missing values differently for numeric and categorical columns."
   ]
  },
  {
   "cell_type": "code",
   "execution_count": 40,
   "id": "c4d90363",
   "metadata": {},
   "outputs": [],
   "source": [
    "cat_col = ['pclass','embarked','embark_town']\n",
    "num_col = ['age','fare',]"
   ]
  },
  {
   "cell_type": "markdown",
   "id": "bd024b19",
   "metadata": {},
   "source": [
    "**Imputing categorical columns**"
   ]
  },
  {
   "cell_type": "markdown",
   "id": "bfdb619f",
   "metadata": {},
   "source": [
    "For categorical variables, we’ll replace missing values with the **most frequent** category."
   ]
  },
  {
   "cell_type": "code",
   "execution_count": 41,
   "id": "55ed6ecf",
   "metadata": {},
   "outputs": [],
   "source": [
    "cat_pipe = Pipeline([\n",
    "    ('cat_imputer',SimpleImputer(strategy='most_frequent'))\n",
    "])"
   ]
  },
  {
   "cell_type": "markdown",
   "id": "268251df",
   "metadata": {},
   "source": [
    "**Scaling and imputing numerical columns**"
   ]
  },
  {
   "cell_type": "markdown",
   "id": "fb768b73",
   "metadata": {},
   "source": [
    "The numeric pipeline imputes missing values using **KNN Imputer** and then scales them with **MinMaxScaler**."
   ]
  },
  {
   "cell_type": "code",
   "execution_count": 42,
   "id": "4d3a9837",
   "metadata": {},
   "outputs": [],
   "source": [
    "num_pipe = Pipeline([\n",
    "   ('num_imputer',KNNImputer()),\n",
    "   ( 'scaling data',MinMaxScaler())\n",
    "])"
   ]
  },
  {
   "cell_type": "markdown",
   "id": "5e3d5402",
   "metadata": {},
   "source": [
    "**Applying numerical and categorical imputation on dataset by columnTransformer**"
   ]
  },
  {
   "cell_type": "markdown",
   "id": "29aee04b",
   "metadata": {},
   "source": [
    "`ColumnTransformer` allows us to apply different preprocessing steps to numeric and categorical columns simultaneously."
   ]
  },
  {
   "cell_type": "code",
   "execution_count": 43,
   "id": "9a3f14cb",
   "metadata": {},
   "outputs": [],
   "source": [
    "preprocessing = ColumnTransformer([\n",
    "    ('num',num_pipe,num_col),\n",
    "    ('cat_preprocessing',cat_pipe,cat_col)\n",
    "])"
   ]
  },
  {
   "cell_type": "markdown",
   "id": "7cca703f",
   "metadata": {},
   "source": [
    "**Apply transformation**"
   ]
  },
  {
   "cell_type": "markdown",
   "id": "cbc06909",
   "metadata": {},
   "source": [
    "We’ll now fit the preprocessing pipeline on the training data and transform both training and test sets."
   ]
  },
  {
   "cell_type": "code",
   "execution_count": 44,
   "id": "bbe44c39",
   "metadata": {},
   "outputs": [],
   "source": [
    "X_train_clean = preprocessing.fit_transform(X_train)\n",
    "X_test_clean = preprocessing.transform(X_test)\n"
   ]
  },
  {
   "cell_type": "markdown",
   "id": "e6ad48b0",
   "metadata": {},
   "source": [
    "**Converting numPy array back into dataFrame**"
   ]
  },
  {
   "cell_type": "markdown",
   "id": "39b67d3e",
   "metadata": {},
   "source": [
    "Let’s convert the NumPy arrays back into DataFrames for better readability and verification."
   ]
  },
  {
   "cell_type": "code",
   "execution_count": 45,
   "id": "8bf879c5",
   "metadata": {},
   "outputs": [],
   "source": [
    "col = num_col+cat_col"
   ]
  },
  {
   "cell_type": "code",
   "execution_count": 46,
   "id": "5c94663e",
   "metadata": {},
   "outputs": [],
   "source": [
    "X_train_clean = pd.DataFrame(X_train_clean,columns = col,index=X_train.index) # Here I have done without one hot encoding, so this simple method is useful\n",
    "X_test_clean = pd.DataFrame(X_test_clean,columns = col,index=X_test.index)"
   ]
  },
  {
   "cell_type": "markdown",
   "id": "438a2fb3",
   "metadata": {},
   "source": [
    "**Checking missinig values again**"
   ]
  },
  {
   "cell_type": "markdown",
   "id": "deed950d",
   "metadata": {},
   "source": [
    "After preprocessing, all missing values should be imputed. Let’s confirm by visualizing the cleaned data."
   ]
  },
  {
   "cell_type": "code",
   "execution_count": 47,
   "id": "4979be3d",
   "metadata": {},
   "outputs": [
    {
     "data": {
      "text/plain": [
       "age            0\n",
       "fare           0\n",
       "pclass         0\n",
       "embarked       0\n",
       "embark_town    0\n",
       "dtype: int64"
      ]
     },
     "execution_count": 47,
     "metadata": {},
     "output_type": "execute_result"
    }
   ],
   "source": [
    "X_train_clean.isna().sum()"
   ]
  },
  {
   "cell_type": "code",
   "execution_count": 48,
   "id": "9742c4c9",
   "metadata": {},
   "outputs": [
    {
     "data": {
      "text/plain": [
       "<Axes: >"
      ]
     },
     "execution_count": 48,
     "metadata": {},
     "output_type": "execute_result"
    },
    {
     "data": {
      "image/png": "[encoded data removed]",
      "text/plain": [
       "<Figure size 640x480 with 2 Axes>"
      ]
     },
     "metadata": {},
     "output_type": "display_data"
    }
   ],
   "source": [
    "sns.heatmap(X_train_clean.isna())"
   ]
  },
  {
   "cell_type": "markdown",
   "id": "7c19dd40",
   "metadata": {},
   "source": [
    "## Summary and Key Takeaways\n",
    "- **KNN Imputer** fills missing values using the average of nearest neighbors.  \n",
    "- **MinMaxScaler** normalizes data to a range between 0 and 1, ensuring features contribute equally.  \n",
    "- Always perform **imputation before scaling** to avoid errors and ensure consistent transformations.  \n",
    "\n",
    "This approach creates a reusable pipeline for handling missing and scaled data before modeling.\n"
   ]
  }
 ],
 "metadata": {
  "kernelspec": {
   "display_name": "python_ml",
   "language": "python",
   "name": "python3"
  },
  "language_info": {
   "codemirror_mode": {
    "name": "ipython",
    "version": 3
   },
   "file_extension": ".py",
   "mimetype": "text/x-python",
   "name": "python",
   "nbconvert_exporter": "python",
   "pygments_lexer": "ipython3",
   "version": "3.10.18"
  }
 },
 "nbformat": 4,
 "nbformat_minor": 5
}
